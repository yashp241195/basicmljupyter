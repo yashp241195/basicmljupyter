{
 "cells": [
  {
   "cell_type": "code",
   "execution_count": 1,
   "metadata": {},
   "outputs": [],
   "source": [
    "import numpy as np\n",
    "import matplotlib.pyplot as plt\n",
    "from matplotlib import style\n",
    "style.use('ggplot')\n",
    "\n",
    "from sklearn.cluster import KMeans\n"
   ]
  },
  {
   "cell_type": "code",
   "execution_count": 6,
   "metadata": {},
   "outputs": [
    {
     "name": "stdout",
     "output_type": "stream",
     "text": [
      "X:  [0, 1, 1, 0, 1, 1, 1, 1, 1, 1]\n",
      "Y:  [1, 0, 0, 1, 0, 0, 0, 0, 0, 1]\n",
      "Z:  [0, 1, 1, 0, 0, 1, 1, 1, 1, 0]\n",
      "A:  [1, 0, 1, 0, 1, 1, 0, 1, 1, 0]\n"
     ]
    }
   ],
   "source": [
    "np.random.seed(0)\n",
    "x = [ np.random.randint(0,2) for _ in range(10) ]\n",
    "y = [ np.random.randint(0,2) for _ in range(10) ]\n",
    "z = [ np.random.randint(0,2) for _ in range(10) ]\n",
    "a = [ np.random.randint(0,2) for _ in range(10) ]\n",
    "\n",
    "print('X: ',x)\n",
    "print('Y: ',y)\n",
    "print('Z: ',z)\n",
    "print('A: ',a)"
   ]
  },
  {
   "cell_type": "code",
   "execution_count": 13,
   "metadata": {},
   "outputs": [
    {
     "name": "stdout",
     "output_type": "stream",
     "text": [
      "[[0 1 0 1]\n",
      " [1 0 1 0]\n",
      " [1 0 1 1]\n",
      " [0 1 0 0]\n",
      " [1 0 0 1]\n",
      " [1 0 1 1]\n",
      " [1 0 1 0]\n",
      " [1 0 1 1]\n",
      " [1 0 1 1]\n",
      " [1 1 0 0]]\n"
     ]
    },
    {
     "data": {
      "text/plain": [
       "(10, 4)"
      ]
     },
     "execution_count": 13,
     "metadata": {},
     "output_type": "execute_result"
    }
   ],
   "source": [
    "X= np.array((x,y,z,a)).T\n",
    "print(X)\n",
    "X.shape"
   ]
  },
  {
   "cell_type": "code",
   "execution_count": 14,
   "metadata": {},
   "outputs": [
    {
     "name": "stdout",
     "output_type": "stream",
     "text": [
      "[[ 1.00000000e+00 -5.55111512e-17  8.00000000e-01  1.00000000e+00]\n",
      " [ 5.00000000e-01  1.00000000e+00  0.00000000e+00  0.00000000e+00]\n",
      " [ 1.00000000e+00  0.00000000e+00  1.00000000e+00  0.00000000e+00]\n",
      " [ 0.00000000e+00  1.00000000e+00  0.00000000e+00  1.00000000e+00]]\n",
      "[3 2 0 1 0 0 2 0 0 1]\n",
      "Coordinate:  [0 1 0 1] label:  3\n",
      "Coordinate:  [1 0 1 0] label:  2\n",
      "Coordinate:  [1 0 1 1] label:  0\n",
      "Coordinate:  [0 1 0 0] label:  1\n",
      "Coordinate:  [1 0 0 1] label:  0\n",
      "Coordinate:  [1 0 1 1] label:  0\n",
      "Coordinate:  [1 0 1 0] label:  2\n",
      "Coordinate:  [1 0 1 1] label:  0\n",
      "Coordinate:  [1 0 1 1] label:  0\n",
      "Coordinate:  [1 1 0 0] label:  1\n"
     ]
    }
   ],
   "source": [
    "kmeans = KMeans(n_clusters=4)\n",
    "kmeans.fit(X)\n",
    "\n",
    "centroids = kmeans.cluster_centers_\n",
    "labels = kmeans.labels_\n",
    "\n",
    "print(centroids)\n",
    "print(labels)\n",
    "\n",
    "#colors = ['g.', 'r.', 'y.', 'c.']\n",
    "\n",
    "for i in range(len(X)):\n",
    "    print('Coordinate: ', X[i], 'label: ', labels[i])"
   ]
  },
  {
   "cell_type": "code",
   "execution_count": null,
   "metadata": {},
   "outputs": [],
   "source": []
  }
 ],
 "metadata": {
  "kernelspec": {
   "display_name": "Python 3",
   "language": "python",
   "name": "python3"
  },
  "language_info": {
   "codemirror_mode": {
    "name": "ipython",
    "version": 3
   },
   "file_extension": ".py",
   "mimetype": "text/x-python",
   "name": "python",
   "nbconvert_exporter": "python",
   "pygments_lexer": "ipython3",
   "version": "3.6.9"
  }
 },
 "nbformat": 4,
 "nbformat_minor": 4
}
